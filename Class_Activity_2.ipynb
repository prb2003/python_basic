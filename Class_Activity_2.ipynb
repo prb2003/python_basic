{
 "cells": [
  {
   "cell_type": "code",
   "execution_count": 3,
   "id": "4392040c-17a1-4033-a7b5-8758a5cf5068",
   "metadata": {},
   "outputs": [
    {
     "name": "stdout",
     "output_type": "stream",
     "text": [
      "True\n",
      "True\n",
      "False\n"
     ]
    }
   ],
   "source": [
    "print(42 == 42)\n",
    "print(42 != '42')\n",
    "print(42 == '42')"
   ]
  },
  {
   "cell_type": "code",
   "execution_count": 4,
   "id": "eb2646b0-71c7-49a1-8380-ebdcb32b4ef3",
   "metadata": {},
   "outputs": [
    {
     "data": {
      "text/plain": [
       "False"
      ]
     },
     "execution_count": 4,
     "metadata": {},
     "output_type": "execute_result"
    }
   ],
   "source": [
    "(5<6) and (6<5)"
   ]
  },
  {
   "cell_type": "code",
   "execution_count": 5,
   "id": "7c963ab7-c355-4e32-9369-51df92c705b5",
   "metadata": {},
   "outputs": [
    {
     "data": {
      "text/plain": [
       "True"
      ]
     },
     "execution_count": 5,
     "metadata": {},
     "output_type": "execute_result"
    }
   ],
   "source": [
    "(5<6) or (6<5)"
   ]
  },
  {
   "cell_type": "code",
   "execution_count": 6,
   "id": "86e50940-4643-41a6-bedb-adf3ef41a28c",
   "metadata": {},
   "outputs": [
    {
     "data": {
      "text/plain": [
       "False"
      ]
     },
     "execution_count": 6,
     "metadata": {},
     "output_type": "execute_result"
    }
   ],
   "source": [
    "(7<6) and (6<5)"
   ]
  },
  {
   "cell_type": "code",
   "execution_count": 13,
   "id": "6b814c4b-330f-49ce-8a09-3b7db8afc860",
   "metadata": {},
   "outputs": [
    {
     "name": "stdin",
     "output_type": "stream",
     "text": [
      " apple\n"
     ]
    },
    {
     "name": "stdout",
     "output_type": "stream",
     "text": [
      "Enter your password\n",
      "ID is correct\n",
      "Password is not correct\n"
     ]
    }
   ],
   "source": [
    "ID = 'apple' \n",
    "Password = input()\n",
    "print(\"Enter your password\")\n",
    "\n",
    "if ID == 'apple':\n",
    "    print('ID is correct')\n",
    "    if Password == 'apple1':\n",
    "        print(\"Password is correct\")\n",
    "    else:\n",
    "        print(\"Password is not correct\")"
   ]
  },
  {
   "cell_type": "code",
   "execution_count": null,
   "id": "41eca9d8-f2b8-4537-afd0-f66cd4e9adef",
   "metadata": {},
   "outputs": [],
   "source": [
    "ID = 'apple' \n",
    "Password = input()\n",
    "print(\"Enter your password\")\n",
    "\n",
    "if ID == 'apple':\n",
    "    print('ID is correct')\n",
    "    if Password == 'apple1':\n",
    "        print(\"Password is correct\")\n",
    "    else:\n",
    "        print(\"Password is not correct\")"
   ]
  },
  {
   "cell_type": "code",
   "execution_count": 31,
   "id": "62d8e7ef-fc25-435a-b71d-b338bec47112",
   "metadata": {},
   "outputs": [
    {
     "name": "stdin",
     "output_type": "stream",
     "text": [
      " 56\n"
     ]
    },
    {
     "name": "stdout",
     "output_type": "stream",
     "text": [
      "Your score 56\n",
      "Your grade is D\n"
     ]
    }
   ],
   "source": [
    "score = input()\n",
    "print (\"Your score\", score)\n",
    "\n",
    "score = int(score)\n",
    "\n",
    "if score > 90:\n",
    "        print (\"Your grade is A\")\n",
    "elif score > 80:\n",
    "        print (\"Your grade is B\")\n",
    "elif score > 70:\n",
    "        print (\"Your grade is C\")\n",
    "else:\n",
    "        print (\"Your grade is D\")"
   ]
  },
  {
   "cell_type": "code",
   "execution_count": null,
   "id": "0a964cb7-f66a-44d3-bc71-1d666d652439",
   "metadata": {},
   "outputs": [],
   "source": []
  }
 ],
 "metadata": {
  "kernelspec": {
   "display_name": "Python 3 (ipykernel)",
   "language": "python",
   "name": "python3"
  },
  "language_info": {
   "codemirror_mode": {
    "name": "ipython",
    "version": 3
   },
   "file_extension": ".py",
   "mimetype": "text/x-python",
   "name": "python",
   "nbconvert_exporter": "python",
   "pygments_lexer": "ipython3",
   "version": "3.12.7"
  }
 },
 "nbformat": 4,
 "nbformat_minor": 5
}
