{
 "cells": [
  {
   "cell_type": "code",
   "execution_count": 7,
   "id": "2bc50434-9f10-4fb3-b831-33edcdf94400",
   "metadata": {},
   "outputs": [
    {
     "name": "stdout",
     "output_type": "stream",
     "text": [
      "4\n",
      "4\n",
      "4\n",
      "1.0\n",
      "0\n",
      "-5\n"
     ]
    }
   ],
   "source": [
    "print(2+2)\n",
    "print(2*2)\n",
    "print(2**2)\n",
    "print(2/2)\n",
    "print(3//9)\n",
    "print(5-10)"
   ]
  },
  {
   "cell_type": "code",
   "execution_count": 8,
   "id": "063a5a85-c3b7-47b0-bf50-9a50fa1adb5c",
   "metadata": {},
   "outputs": [],
   "source": [
    "python = 1"
   ]
  },
  {
   "cell_type": "code",
   "execution_count": 9,
   "id": "b458c500-531f-421c-bd9e-3e92d8c5453c",
   "metadata": {},
   "outputs": [
    {
     "data": {
      "text/plain": [
       "2"
      ]
     },
     "execution_count": 9,
     "metadata": {},
     "output_type": "execute_result"
    }
   ],
   "source": [
    "python + 1"
   ]
  },
  {
   "cell_type": "code",
   "execution_count": 12,
   "id": "6eff1429-3860-4342-afd8-30d43a955132",
   "metadata": {},
   "outputs": [
    {
     "name": "stdout",
     "output_type": "stream",
     "text": [
      "Hello, World !\n",
      "what is your name?\n"
     ]
    },
    {
     "name": "stdin",
     "output_type": "stream",
     "text": [
      " 100\n"
     ]
    },
    {
     "ename": "TypeError",
     "evalue": "can only concatenate str (not \"int\") to str",
     "output_type": "error",
     "traceback": [
      "\u001b[1;31m---------------------------------------------------------------------------\u001b[0m",
      "\u001b[1;31mTypeError\u001b[0m                                 Traceback (most recent call last)",
      "Cell \u001b[1;32mIn[12], line 4\u001b[0m\n\u001b[0;32m      2\u001b[0m \u001b[38;5;28mprint\u001b[39m(\u001b[38;5;124m'\u001b[39m\u001b[38;5;124mwhat is your name?\u001b[39m\u001b[38;5;124m'\u001b[39m)\n\u001b[0;32m      3\u001b[0m myname \u001b[38;5;241m=\u001b[39m \u001b[38;5;28minput\u001b[39m()\n\u001b[1;32m----> 4\u001b[0m \u001b[38;5;28mprint\u001b[39m(\u001b[38;5;124m\"\u001b[39m\u001b[38;5;124mIt is good to meet you, \u001b[39m\u001b[38;5;124m\"\u001b[39m \u001b[38;5;241m+\u001b[39m \u001b[38;5;28mint\u001b[39m(myname))\n",
      "\u001b[1;31mTypeError\u001b[0m: can only concatenate str (not \"int\") to str"
     ]
    }
   ],
   "source": [
    "print(\"Hello, World !\")\n",
    "print('what is your name?')\n",
    "myname = input()\n",
    "print(\"It is good to meet you, \" + int(myname))"
   ]
  },
  {
   "cell_type": "code",
   "execution_count": null,
   "id": "79a414eb-a8ce-4a2e-9b88-7328adeb8a9f",
   "metadata": {},
   "outputs": [],
   "source": []
  }
 ],
 "metadata": {
  "kernelspec": {
   "display_name": "Python 3 (ipykernel)",
   "language": "python",
   "name": "python3"
  },
  "language_info": {
   "codemirror_mode": {
    "name": "ipython",
    "version": 3
   },
   "file_extension": ".py",
   "mimetype": "text/x-python",
   "name": "python",
   "nbconvert_exporter": "python",
   "pygments_lexer": "ipython3",
   "version": "3.12.7"
  }
 },
 "nbformat": 4,
 "nbformat_minor": 5
}
